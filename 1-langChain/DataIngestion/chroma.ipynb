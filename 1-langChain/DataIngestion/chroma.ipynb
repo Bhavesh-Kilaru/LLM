{
 "cells": [
  {
   "cell_type": "markdown",
   "metadata": {},
   "source": [
    "#### Chroma DB\n",
    "\n",
    "Chroma is a AI native open-source vector database focused on develeoper productivity and happiness. Chroma is licensed under apache 2.0\n",
    "\n",
    "https://python.langchain.com/docs/integrations/vectorstores/"
   ]
  },
  {
   "cell_type": "code",
   "execution_count": 1,
   "metadata": {},
   "outputs": [],
   "source": [
    "#### building a sample vector db\n",
    "\n",
    "from langchain_chroma import Chroma\n",
    "from langchain_community.document_loaders import TextLoader\n",
    "from langchain_community.embeddings import OllamaEmbeddings\n",
    "from langchain_text_splitters import RecursiveCharacterTextSplitter"
   ]
  },
  {
   "cell_type": "code",
   "execution_count": 2,
   "metadata": {},
   "outputs": [],
   "source": [
    "doc = TextLoader(\"TDP.txt\").load()"
   ]
  },
  {
   "cell_type": "code",
   "execution_count": 4,
   "metadata": {},
   "outputs": [],
   "source": [
    "splitter = RecursiveCharacterTextSplitter(chunk_size = 500, chunk_overlap=20)\n",
    "splits = splitter.split_documents(doc)"
   ]
  },
  {
   "cell_type": "code",
   "execution_count": 5,
   "metadata": {},
   "outputs": [
    {
     "name": "stderr",
     "output_type": "stream",
     "text": [
      "C:\\Users\\Bhavesh Kilaru\\AppData\\Local\\Temp\\ipykernel_22044\\794839390.py:1: LangChainDeprecationWarning: The class `OllamaEmbeddings` was deprecated in LangChain 0.3.1 and will be removed in 1.0.0. An updated version of the class exists in the :class:`~langchain-ollama package and should be used instead. To use it run `pip install -U :class:`~langchain-ollama` and import as `from :class:`~langchain_ollama import OllamaEmbeddings``.\n",
      "  embedding = OllamaEmbeddings(\n"
     ]
    }
   ],
   "source": [
    "embedding = OllamaEmbeddings(\n",
    "    model =\"gemma2:2b\"\n",
    ")"
   ]
  },
  {
   "cell_type": "code",
   "execution_count": 6,
   "metadata": {},
   "outputs": [],
   "source": [
    "db = Chroma.from_documents(documents=splits, embedding=embedding)"
   ]
  },
  {
   "cell_type": "code",
   "execution_count": 7,
   "metadata": {},
   "outputs": [],
   "source": [
    "query = \"who is the founder of Telugu Desam Party?\"\n",
    "query_doc = db.similarity_search(query)"
   ]
  },
  {
   "cell_type": "code",
   "execution_count": 8,
   "metadata": {},
   "outputs": [
    {
     "data": {
      "text/plain": [
       "[Document(metadata={'source': 'TDP.txt'}, page_content='The Telugu Desam Party follows a pro-Telugu ideology. It was founded as an alternative to the Congress hegemony, by emphasizing Telugu regional pride and serving as the party for farmers, backward castes and middle-class people. Since the 1990s, it has followed an economically liberal policy that has been seen as pro-business and pro-development.[19]'),\n",
       " Document(metadata={'source': 'TDP.txt'}, page_content='lost their lives in the devastation caused by this typhoon. About 20 thousand acres of crops were damaged. Apart from this, property damage is also estimated to be in crores. People still get excited when they remember that Diviseema was flooded. Film actor NTR, who was shocked by the situation at that time, took the support of the entire film industry by saying that he should stand by the people of Divisea. NTR came to streets and begged everyone to help the Diviseema people. The money donated'),\n",
       " Document(metadata={'source': 'TDP.txt'}, page_content='TDP party was founded thinking that we should stand by the people of the state who are struggling with many such problems and put a political party to stand by the people. The party was formed on 29 March 1982 and contested the 1983 elections. The people of Andhra Pradesh, who were fed up with the Congress government which had been ruling for 36 years, gave a great victory to the TDP party in the 1983 elections. On 9 January 1983, NTR was sworn in as the 7th chief minister of Andhra'),\n",
       " Document(metadata={'source': 'TDP.txt'}, page_content=\"The TDP uses yellow as the background colour for its flag, with a hut, wheel and plough symbol in the foreground. The party's electoral symbol is bicycle.\")]"
      ]
     },
     "execution_count": 8,
     "metadata": {},
     "output_type": "execute_result"
    }
   ],
   "source": [
    "query_doc"
   ]
  },
  {
   "cell_type": "code",
   "execution_count": null,
   "metadata": {},
   "outputs": [],
   "source": [
    "#saving to disk\n",
    "db = Chroma.from_documents(documents=splits, embedding=embedding, persist_directory=\"./chroma_db\")"
   ]
  },
  {
   "cell_type": "code",
   "execution_count": null,
   "metadata": {},
   "outputs": [],
   "source": [
    "#load from disk\n",
    "loaded_db = Chroma(persist_directory=\"./chroma_db\", embedding_function=embedding)"
   ]
  },
  {
   "cell_type": "code",
   "execution_count": 9,
   "metadata": {},
   "outputs": [],
   "source": [
    "#similarity search from score\n",
    "doc_with_score = db.similarity_search_with_score(query)"
   ]
  },
  {
   "cell_type": "code",
   "execution_count": 10,
   "metadata": {},
   "outputs": [
    {
     "data": {
      "text/plain": [
       "[(Document(metadata={'source': 'TDP.txt'}, page_content='The Telugu Desam Party follows a pro-Telugu ideology. It was founded as an alternative to the Congress hegemony, by emphasizing Telugu regional pride and serving as the party for farmers, backward castes and middle-class people. Since the 1990s, it has followed an economically liberal policy that has been seen as pro-business and pro-development.[19]'),\n",
       "  23578.072265625),\n",
       " (Document(metadata={'source': 'TDP.txt'}, page_content='lost their lives in the devastation caused by this typhoon. About 20 thousand acres of crops were damaged. Apart from this, property damage is also estimated to be in crores. People still get excited when they remember that Diviseema was flooded. Film actor NTR, who was shocked by the situation at that time, took the support of the entire film industry by saying that he should stand by the people of Divisea. NTR came to streets and begged everyone to help the Diviseema people. The money donated'),\n",
       "  24017.73828125),\n",
       " (Document(metadata={'source': 'TDP.txt'}, page_content='TDP party was founded thinking that we should stand by the people of the state who are struggling with many such problems and put a political party to stand by the people. The party was formed on 29 March 1982 and contested the 1983 elections. The people of Andhra Pradesh, who were fed up with the Congress government which had been ruling for 36 years, gave a great victory to the TDP party in the 1983 elections. On 9 January 1983, NTR was sworn in as the 7th chief minister of Andhra'),\n",
       "  24079.615234375),\n",
       " (Document(metadata={'source': 'TDP.txt'}, page_content=\"The TDP uses yellow as the background colour for its flag, with a hut, wheel and plough symbol in the foreground. The party's electoral symbol is bicycle.\"),\n",
       "  26434.1953125)]"
      ]
     },
     "execution_count": 10,
     "metadata": {},
     "output_type": "execute_result"
    }
   ],
   "source": [
    "doc_with_score"
   ]
  },
  {
   "cell_type": "code",
   "execution_count": 11,
   "metadata": {},
   "outputs": [
    {
     "data": {
      "text/plain": [
       "'The Telugu Desam Party follows a pro-Telugu ideology. It was founded as an alternative to the Congress hegemony, by emphasizing Telugu regional pride and serving as the party for farmers, backward castes and middle-class people. Since the 1990s, it has followed an economically liberal policy that has been seen as pro-business and pro-development.[19]'"
      ]
     },
     "execution_count": 11,
     "metadata": {},
     "output_type": "execute_result"
    }
   ],
   "source": [
    "# as a retriever\n",
    "retriever = db.as_retriever()\n",
    "retriever.invoke(query)[0].page_content"
   ]
  },
  {
   "cell_type": "markdown",
   "metadata": {},
   "source": [
    "#### refer to below link for more db\n",
    "https://python.langchain.com/docs/integrations/vectorstores/"
   ]
  },
  {
   "cell_type": "code",
   "execution_count": null,
   "metadata": {},
   "outputs": [],
   "source": []
  }
 ],
 "metadata": {
  "kernelspec": {
   "display_name": "LLM",
   "language": "python",
   "name": "python3"
  },
  "language_info": {
   "codemirror_mode": {
    "name": "ipython",
    "version": 3
   },
   "file_extension": ".py",
   "mimetype": "text/x-python",
   "name": "python",
   "nbconvert_exporter": "python",
   "pygments_lexer": "ipython3",
   "version": "3.11.9"
  }
 },
 "nbformat": 4,
 "nbformat_minor": 2
}
