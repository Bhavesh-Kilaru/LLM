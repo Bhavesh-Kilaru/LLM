{
 "cells": [
  {
   "cell_type": "code",
   "execution_count": 4,
   "metadata": {},
   "outputs": [],
   "source": [
    "from langchain_community.document_loaders import TextLoader\n",
    "loader = TextLoader(\"TDP.txt\")"
   ]
  },
  {
   "cell_type": "code",
   "execution_count": 5,
   "metadata": {},
   "outputs": [
    {
     "data": {
      "text/plain": [
       "[Document(metadata={'source': 'TDP.txt'}, page_content=\"The Telugu Desam Party follows a pro-Telugu ideology. It was founded as an alternative to the Congress hegemony, by emphasizing Telugu regional pride and serving as the party for farmers, backward castes and middle-class people. Since the 1990s, it has followed an economically liberal policy that has been seen as pro-business and pro-development.[19]\\n\\nThe TDP uses yellow as the background colour for its flag, with a hut, wheel and plough symbol in the foreground. The party's electoral symbol is bicycle.\")]"
      ]
     },
     "execution_count": 5,
     "metadata": {},
     "output_type": "execute_result"
    }
   ],
   "source": [
    "loader.load()"
   ]
  },
  {
   "cell_type": "markdown",
   "metadata": {},
   "source": [
    "#### Reading a pdf file"
   ]
  },
  {
   "cell_type": "code",
   "execution_count": 6,
   "metadata": {},
   "outputs": [],
   "source": [
    "from langchain_community.document_loaders import PyPDFLoader\n",
    "loader = PyPDFLoader(\"attention.pdf\")"
   ]
  },
  {
   "cell_type": "code",
   "execution_count": 8,
   "metadata": {},
   "outputs": [],
   "source": [
    "docs = loader.load()"
   ]
  },
  {
   "cell_type": "code",
   "execution_count": 9,
   "metadata": {},
   "outputs": [
    {
     "data": {
      "text/plain": [
       "langchain_core.documents.base.Document"
      ]
     },
     "execution_count": 9,
     "metadata": {},
     "output_type": "execute_result"
    }
   ],
   "source": [
    "type(docs[0])"
   ]
  },
  {
   "cell_type": "markdown",
   "metadata": {},
   "source": [
    "#### web based loader"
   ]
  },
  {
   "cell_type": "code",
   "execution_count": 16,
   "metadata": {},
   "outputs": [],
   "source": [
    "from langchain_community.document_loaders import WebBaseLoader\n",
    "import bs4\n",
    "loader = WebBaseLoader(web_paths=(\"https://lilianweng.github.io/posts/2023-06-23-agent/\",),\n",
    "                       bs_kwargs=dict(parse_only = bs4.SoupStrainer(\n",
    "                           class_=(\"post-title\", \"post-content\", \"post-header\")\n",
    "                       ))\n",
    "                       )"
   ]
  },
  {
   "cell_type": "code",
   "execution_count": 18,
   "metadata": {},
   "outputs": [
    {
     "data": {
      "text/plain": [
       "1"
      ]
     },
     "execution_count": 18,
     "metadata": {},
     "output_type": "execute_result"
    }
   ],
   "source": [
    "len(loader.load())"
   ]
  },
  {
   "cell_type": "markdown",
   "metadata": {},
   "source": [
    "#### getting a arxiv file"
   ]
  },
  {
   "cell_type": "code",
   "execution_count": 22,
   "metadata": {},
   "outputs": [],
   "source": [
    "from langchain_community.document_loaders import ArxivLoader\n",
    "loader = ArxivLoader(query= \"1706.03762\", load_max_docs = 2)"
   ]
  },
  {
   "cell_type": "code",
   "execution_count": 23,
   "metadata": {},
   "outputs": [
    {
     "data": {
      "text/plain": [
       "1"
      ]
     },
     "execution_count": 23,
     "metadata": {},
     "output_type": "execute_result"
    }
   ],
   "source": [
    "len(loader.load())"
   ]
  },
  {
   "cell_type": "markdown",
   "metadata": {},
   "source": [
    "#### loading wikipedia "
   ]
  },
  {
   "cell_type": "code",
   "execution_count": 25,
   "metadata": {},
   "outputs": [],
   "source": [
    "from langchain_community.document_loaders import WikipediaLoader\n",
    "docs = WikipediaLoader(query = \"Sushma Swaraj\", load_max_docs=2).load()"
   ]
  },
  {
   "cell_type": "code",
   "execution_count": 26,
   "metadata": {},
   "outputs": [
    {
     "data": {
      "text/plain": [
       "[Document(metadata={'title': 'Sushma Swaraj', 'summary': 'Sushma Swaraj  (née Sharma; 14 February 1952 – 6 August 2019) was an Indian lawyer, politician and  diplomat who served as the Minister of External Affairs of India in the first Narendra Modi government from 2014 to 2019. She was the second person to complete a 5-year term as the Minister of External Affairs, after Jawaharlal Nehru. A senior leader of the Bharatiya Janata Party (BJP), Swaraj was the second woman to hold the office of Minister of External Affairs, after Indira Gandhi. She was elected seven times as a Member of Parliament and three times as a Member of the Legislative Assembly. At the age of 25 in 1977, she became the youngest cabinet minister of the Indian state of Haryana. She also served as Chief Minister of Delhi for a short duration in 1998 and became the first female Chief Minister of Delhi.\\nIn the 2014 Indian general election, Swaraj won the Vidisha constituency in Madhya Pradesh for a second term, retaining her seat by a margin of over 400,000 votes. She became the Minister of External Affairs in the union cabinet on 26 May 2014. Swaraj was called India\\'s \"best-loved politician\" by the US daily Wall Street Journal. She decided not to contest the 2019 Indian general election as she was recovering from a kidney transplant and needed to \"save herself from dust and stay safe from infection\" and hence did not join the second Modi Ministry in 2019.\\nAccording to the doctors at AIIMS New Delhi, Swaraj succumbed to a cardiac arrest following a heart attack on the night of 6 August 2019. She was awarded the  Padma Vibhushan, India\\'s second highest civilian award, posthumously in 2020 in the field of Public Affairs.', 'source': 'https://en.wikipedia.org/wiki/Sushma_Swaraj'}, page_content='Sushma Swaraj  (née Sharma; 14 February 1952 – 6 August 2019) was an Indian lawyer, politician and  diplomat who served as the Minister of External Affairs of India in the first Narendra Modi government from 2014 to 2019. She was the second person to complete a 5-year term as the Minister of External Affairs, after Jawaharlal Nehru. A senior leader of the Bharatiya Janata Party (BJP), Swaraj was the second woman to hold the office of Minister of External Affairs, after Indira Gandhi. She was elected seven times as a Member of Parliament and three times as a Member of the Legislative Assembly. At the age of 25 in 1977, she became the youngest cabinet minister of the Indian state of Haryana. She also served as Chief Minister of Delhi for a short duration in 1998 and became the first female Chief Minister of Delhi.\\nIn the 2014 Indian general election, Swaraj won the Vidisha constituency in Madhya Pradesh for a second term, retaining her seat by a margin of over 400,000 votes. She became the Minister of External Affairs in the union cabinet on 26 May 2014. Swaraj was called India\\'s \"best-loved politician\" by the US daily Wall Street Journal. She decided not to contest the 2019 Indian general election as she was recovering from a kidney transplant and needed to \"save herself from dust and stay safe from infection\" and hence did not join the second Modi Ministry in 2019.\\nAccording to the doctors at AIIMS New Delhi, Swaraj succumbed to a cardiac arrest following a heart attack on the night of 6 August 2019. She was awarded the  Padma Vibhushan, India\\'s second highest civilian award, posthumously in 2020 in the field of Public Affairs.\\n\\n\\n== Early life and education ==\\nSushma Swaraj (née Sharma) was born on 14 February 1952 at Ambala Cantonment, Haryana, into a Punjabi Brahmin family, to Hardev Sharma and Shrimati Laxmi Devi. Her father was a prominent Rashtriya Swayamsevak Sangh member. Her parents hailed from the Dharampura area of Lahore, Pakistan. She was educated at Sanatan Dharma College in Ambala Cantonment and earned a bachelor\\'s degree with majors in Sanskrit and Political Science. She studied law at Panjab University, Chandigarh. A state-level competition held by the Language Department of Haryana saw her winning the best Hindi Speaker award for three consecutive years. Sushma Swaraj was a strict vegetarian.\\n\\n\\n== Advocacy career ==\\nIn 1973, Swaraj started practice as an advocate in the Supreme Court of India. She began her political career with Akhil Bharatiya Vidyarthi Parishad in the 1970s. Her husband, Swaraj Kaushal, was closely associated with the socialist leader George Fernandes and Sushma Swaraj became a part of George Fernandes\\'s legal defence team in 1975. She actively participated in Jayaprakash Narayan\\'s Total Revolution Movement. After the Emergency, she joined the Bharatiya Janata Party. Later, she became a national leader of the BJP.\\n\\n\\n== Political career ==\\n\\n\\n=== Early political career ===\\nShe was a member of the Haryana Legislative Assembly from 1977 to 1982, winning the Ambala Cantonment assembly seat at the age of 25; and then, again from 1987 to 1990. In July 1977, she was sworn in as a Cabinet Minister in the Janata Party Government headed by then Chief Minister Devi Lal. She held the Labour and Employment ministries from 1977 to 1979. Later she became Minister of Education, Food and Civil supplies during 1987 to 1990. She became State President of the Janata Party (Haryana) in 1979, at the age of 27. She was Education Minister of Haryana state in the Bharatiya Janata Party–Lok Dal coalition government from 1987 to 1990.\\nIn April 1990, she was elected as a member of the Rajya Sabha and remained there until she was elected to the 11th Lok Sabha from South Delhi constituency in 1996. Swaraj was elected to the 11th Lok Sabha from the South Delhi constituency in the April 1996 elections.\\n\\n\\n=== Minister of Information and Broadcasting (1996) ===\\nShe served as Union Cabinet Minister for Information and Broadcas'),\n",
       " Document(metadata={'title': 'Bansuri Swaraj', 'summary': 'Bansuri Swaraj (born 3 January 1984) is an Indian lawyer and politician. She is a member of Lok Sabha from New Delhi. Bansuri Swaraj is the daughter of former Union Minister Sushma Swaraj and former Governor of Mizoram Swaraj Kaushal.\\n\\n', 'source': 'https://en.wikipedia.org/wiki/Bansuri_Swaraj'}, page_content=\"Bansuri Swaraj (born 3 January 1984) is an Indian lawyer and politician. She is a member of Lok Sabha from New Delhi. Bansuri Swaraj is the daughter of former Union Minister Sushma Swaraj and former Governor of Mizoram Swaraj Kaushal.\\n\\n\\n== Education ==\\nBansuri Swaraj is a graduate of the University of Warwick and of Oxford University and a barrister in law from Inner Temple. She has also completed her Masters of Studies from the St Catherine's College, Oxford.\\n\\n\\n== Political career ==\\nSwaraj won her first election in 2024 as a Member of Parliament 18th Lok Sabha defeating her nearest rival candidate Somnath Bharti with a margin of 78,370 votes.\\n\\n\\n== References ==\")]"
      ]
     },
     "execution_count": 26,
     "metadata": {},
     "output_type": "execute_result"
    }
   ],
   "source": [
    "docs"
   ]
  },
  {
   "cell_type": "code",
   "execution_count": null,
   "metadata": {},
   "outputs": [],
   "source": []
  }
 ],
 "metadata": {
  "kernelspec": {
   "display_name": "LLM",
   "language": "python",
   "name": "python3"
  },
  "language_info": {
   "codemirror_mode": {
    "name": "ipython",
    "version": 3
   },
   "file_extension": ".py",
   "mimetype": "text/x-python",
   "name": "python",
   "nbconvert_exporter": "python",
   "pygments_lexer": "ipython3",
   "version": "3.11.9"
  }
 },
 "nbformat": 4,
 "nbformat_minor": 2
}
