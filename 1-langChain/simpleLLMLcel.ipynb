{
 "cells": [
  {
   "cell_type": "markdown",
   "metadata": {},
   "source": [
    "This application will translate text into another language. This is relatively simple LLM application aka., simple LLM plus some prompting.\n",
    "\n",
    "#### Lang Chain Expression Language\n",
    "\n",
    "chaining different components like prompt, LLM and Output parser is called Lang Chain expression Language"
   ]
  },
  {
   "cell_type": "markdown",
   "metadata": {},
   "source": [
    "#### GROQ\n",
    "An LPU Inference Engine, with LPU standing for Language Processing Unit™, is a hardware and software platform that delivers exceptional compute speed, quality, and energy efficiency.  This new type of end-to-end processing unit system provides the fastest inference for computationally intensive applications with sequential components, such as AI language applications like Large Language Models (LLMs).\n",
    "\n",
    "The LPU is designed to overcome the two LLM bottlenecks: compute density and memory bandwidth. An LPU has greater compute capacity than a GPU and CPU in regards to LLMs. This reduces the amount of time per word calculated, allowing sequences of text to be generated much faster. Additionally, eliminating external memory bottlenecks enables the LPU Inference Engine to deliver orders of magnitude better performance on LLMs compared to GPUs."
   ]
  },
  {
   "cell_type": "code",
   "execution_count": 1,
   "metadata": {},
   "outputs": [],
   "source": [
    "#open APi keys and Open source models -- LLama, Gemma,Mistral -- GROQ\n",
    "import os\n",
    "from dotenv import load_dotenv\n",
    "load_dotenv()\n",
    "\n",
    "os.environ[\"OPENAI_API_KEY\"] = os.getenv(\"OPENAI_API_KEY\")\n",
    "os.environ[\"GROQ_API_KEY\"] = os.getenv(\"GROQ_API_KEY\")"
   ]
  },
  {
   "cell_type": "code",
   "execution_count": 2,
   "metadata": {},
   "outputs": [],
   "source": [
    "from langchain_groq import ChatGroq\n",
    "from langchain_openai import ChatOpenAI\n",
    "\n",
    "model = ChatGroq(model = \"Gemma2-9b-It\")"
   ]
  },
  {
   "cell_type": "code",
   "execution_count": 3,
   "metadata": {},
   "outputs": [],
   "source": [
    "from langchain_core.messages import HumanMessage, SystemMessage\n",
    "\n",
    "messages = [\n",
    "    SystemMessage(content=\"Translate the following from English to French\"), #instructs the LLM Model how it needs to behave\n",
    "    HumanMessage(content=\"Hello How are you\") # sentence to convert\n",
    "]\n",
    "#the model returns response of AIMessage\n",
    "\n",
    "response = model.invoke(messages)"
   ]
  },
  {
   "cell_type": "code",
   "execution_count": 10,
   "metadata": {},
   "outputs": [
    {
     "name": "stdout",
     "output_type": "stream",
     "text": [
      "Here are a few ways to say \"Hello, how are you\" in French:\n",
      "\n",
      "**Formal:**\n",
      "\n",
      "* **Bonjour, comment allez-vous ?** (This is the most polite and formal way to greet someone.)\n",
      "\n",
      "**Informal:**\n",
      "\n",
      "* **Salut, comment vas-tu ?** (This is a casual way to greet someone you know well.)\n",
      "* **Coucou, ça va ?** (This is a very informal way to greet someone, often used with friends or family.)\n",
      "\n",
      "**Other options:**\n",
      "\n",
      "* **Bonjour, comment êtes-vous ?** (This is a more formal version of \"comment allez-vous?\")\n",
      "\n",
      "\n",
      "Let me know if you have any other questions!\n",
      "\n"
     ]
    }
   ],
   "source": [
    "print(response.content)"
   ]
  },
  {
   "cell_type": "code",
   "execution_count": 9,
   "metadata": {},
   "outputs": [
    {
     "data": {
      "text/plain": [
       "AIMessage(content='Here are a few ways to say \"Hello, how are you\" in French:\\n\\n**Formal:**\\n\\n* **Bonjour, comment allez-vous ?** (This is the most polite and formal way to greet someone.)\\n\\n**Informal:**\\n\\n* **Salut, comment vas-tu ?** (This is a casual way to greet someone you know well.)\\n* **Coucou, ça va ?** (This is a very informal way to greet someone, often used with friends or family.)\\n\\n**Other options:**\\n\\n* **Bonjour, comment êtes-vous ?** (This is a more formal version of \"comment allez-vous?\")\\n\\n\\nLet me know if you have any other questions!\\n', additional_kwargs={}, response_metadata={'token_usage': {'completion_tokens': 144, 'prompt_tokens': 20, 'total_tokens': 164, 'completion_time': 0.261818182, 'prompt_time': 7.9499e-05, 'queue_time': 0.01398863, 'total_time': 0.261897681}, 'model_name': 'Gemma2-9b-It', 'system_fingerprint': 'fp_10c08bf97d', 'finish_reason': 'stop', 'logprobs': None}, id='run-e267eace-2098-4017-a174-e214eab2f1e3-0', usage_metadata={'input_tokens': 20, 'output_tokens': 144, 'total_tokens': 164})"
      ]
     },
     "execution_count": 9,
     "metadata": {},
     "output_type": "execute_result"
    }
   ],
   "source": [
    "response"
   ]
  },
  {
   "cell_type": "code",
   "execution_count": 11,
   "metadata": {},
   "outputs": [],
   "source": [
    "from langchain_core.output_parsers import StrOutputParser\n",
    "parser = StrOutputParser()"
   ]
  },
  {
   "cell_type": "code",
   "execution_count": 12,
   "metadata": {},
   "outputs": [
    {
     "data": {
      "text/plain": [
       "'Here are a few ways to say \"Hello, how are you\" in French:\\n\\n**Formal:**\\n\\n* **Bonjour, comment allez-vous ?** (This is the most polite and formal way to greet someone.)\\n\\n**Informal:**\\n\\n* **Salut, comment vas-tu ?** (This is a casual way to greet someone you know well.)\\n* **Coucou, ça va ?** (This is a very informal way to greet someone, often used with friends or family.)\\n\\n**Other options:**\\n\\n* **Bonjour, comment êtes-vous ?** (This is a more formal version of \"comment allez-vous?\")\\n\\n\\nLet me know if you have any other questions!\\n'"
      ]
     },
     "execution_count": 12,
     "metadata": {},
     "output_type": "execute_result"
    }
   ],
   "source": [
    "parser.invoke(response)"
   ]
  },
  {
   "cell_type": "code",
   "execution_count": null,
   "metadata": {},
   "outputs": [],
   "source": [
    "#### using LCEL, you can chain components\n",
    "chain = model|parser\n",
    "chain.invoke(messages)"
   ]
  },
  {
   "cell_type": "code",
   "execution_count": 17,
   "metadata": {},
   "outputs": [],
   "source": [
    "#### one can use prompt template\n",
    "\n",
    "from langchain_core.prompts import ChatPromptTemplate\n",
    "\n",
    "genric_template = \"Translate the following into {language}:\"\n",
    "\n",
    "## Use one of 'human', 'user', 'ai', 'assistant', or 'system'\n",
    "prompt = ChatPromptTemplate.from_messages(\n",
    "    [\n",
    "        (\"system\", genric_template),\n",
    "        (\"human\", \"{text}\")\n",
    "    ]\n",
    ")"
   ]
  },
  {
   "cell_type": "code",
   "execution_count": 18,
   "metadata": {},
   "outputs": [],
   "source": [
    "prompt_response = prompt.invoke({\"language\":\"Telugu\", \"text\":\"How are you?\"} )"
   ]
  },
  {
   "cell_type": "code",
   "execution_count": 20,
   "metadata": {},
   "outputs": [
    {
     "data": {
      "text/plain": [
       "[SystemMessage(content='Translate the following into Telugu:', additional_kwargs={}, response_metadata={}),\n",
       " HumanMessage(content='How are you?', additional_kwargs={}, response_metadata={})]"
      ]
     },
     "execution_count": 20,
     "metadata": {},
     "output_type": "execute_result"
    }
   ],
   "source": [
    "prompt_response.to_messages()"
   ]
  },
  {
   "cell_type": "code",
   "execution_count": 21,
   "metadata": {},
   "outputs": [],
   "source": [
    "#### creating chain\n",
    "chain = prompt|model|parser"
   ]
  },
  {
   "cell_type": "code",
   "execution_count": 22,
   "metadata": {},
   "outputs": [],
   "source": [
    "final_response= chain.invoke({\"language\":\"Telugu\", \"text\":\"How are you?\"} )"
   ]
  },
  {
   "cell_type": "code",
   "execution_count": 23,
   "metadata": {},
   "outputs": [
    {
     "data": {
      "text/plain": [
       "'మీరు ఎలా ఉన్నారు? (Mēru ela unnaru?) \\n\\n\\nThis is the most common and polite way to ask \"How are you?\" in Telugu. \\n'"
      ]
     },
     "execution_count": 23,
     "metadata": {},
     "output_type": "execute_result"
    }
   ],
   "source": [
    "final_response"
   ]
  },
  {
   "cell_type": "code",
   "execution_count": null,
   "metadata": {},
   "outputs": [],
   "source": []
  }
 ],
 "metadata": {
  "kernelspec": {
   "display_name": "LLM",
   "language": "python",
   "name": "python3"
  },
  "language_info": {
   "codemirror_mode": {
    "name": "ipython",
    "version": 3
   },
   "file_extension": ".py",
   "mimetype": "text/x-python",
   "name": "python",
   "nbconvert_exporter": "python",
   "pygments_lexer": "ipython3",
   "version": "3.11.9"
  }
 },
 "nbformat": 4,
 "nbformat_minor": 2
}
