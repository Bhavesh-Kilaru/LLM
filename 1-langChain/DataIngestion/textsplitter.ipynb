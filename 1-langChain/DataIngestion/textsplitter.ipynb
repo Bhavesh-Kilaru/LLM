{
 "cells": [
  {
   "cell_type": "markdown",
   "metadata": {},
   "source": [
    "#### recursively split text by characters"
   ]
  },
  {
   "cell_type": "code",
   "execution_count": 2,
   "metadata": {},
   "outputs": [],
   "source": [
    "from langchain_text_splitters import RecursiveCharacterTextSplitter\n",
    "from langchain_community.document_loaders import TextLoader"
   ]
  },
  {
   "cell_type": "code",
   "execution_count": 5,
   "metadata": {},
   "outputs": [],
   "source": [
    "docs = TextLoader(\"TDP.txt\").load()"
   ]
  },
  {
   "cell_type": "code",
   "execution_count": 6,
   "metadata": {},
   "outputs": [],
   "source": [
    "text_splitter = RecursiveCharacterTextSplitter(chunk_size = 100, chunk_overlap = 10)\n",
    "final_doc = text_splitter.split_documents(docs)"
   ]
  },
  {
   "cell_type": "code",
   "execution_count": 8,
   "metadata": {},
   "outputs": [
    {
     "data": {
      "text/plain": [
       "[Document(metadata={'source': 'TDP.txt'}, page_content='The Telugu Desam Party follows a pro-Telugu ideology. It was founded as an alternative to the'),\n",
       " Document(metadata={'source': 'TDP.txt'}, page_content='to the Congress hegemony, by emphasizing Telugu regional pride and serving as the party for'),\n",
       " Document(metadata={'source': 'TDP.txt'}, page_content='party for farmers, backward castes and middle-class people. Since the 1990s, it has followed an'),\n",
       " Document(metadata={'source': 'TDP.txt'}, page_content='an economically liberal policy that has been seen as pro-business and pro-development.[19]'),\n",
       " Document(metadata={'source': 'TDP.txt'}, page_content='The TDP uses yellow as the background colour for its flag, with a hut, wheel and plough symbol in'),\n",
       " Document(metadata={'source': 'TDP.txt'}, page_content=\"symbol in the foreground. The party's electoral symbol is bicycle.\")]"
      ]
     },
     "execution_count": 8,
     "metadata": {},
     "output_type": "execute_result"
    }
   ],
   "source": [
    "final_doc"
   ]
  },
  {
   "cell_type": "code",
   "execution_count": 9,
   "metadata": {},
   "outputs": [],
   "source": [
    "with open(\"TDP.txt\") as f:\n",
    "    txt = f.read()"
   ]
  },
  {
   "cell_type": "code",
   "execution_count": 14,
   "metadata": {},
   "outputs": [],
   "source": [
    "text_splitter = RecursiveCharacterTextSplitter(chunk_size = 50, chunk_overlap = 10)\n",
    "text = text_splitter.create_documents([txt])"
   ]
  },
  {
   "cell_type": "code",
   "execution_count": 15,
   "metadata": {},
   "outputs": [
    {
     "data": {
      "text/plain": [
       "[Document(metadata={}, page_content='The Telugu Desam Party follows a pro-Telugu'),\n",
       " Document(metadata={}, page_content='ideology. It was founded as an alternative to the'),\n",
       " Document(metadata={}, page_content='to the Congress hegemony, by emphasizing Telugu'),\n",
       " Document(metadata={}, page_content='Telugu regional pride and serving as the party'),\n",
       " Document(metadata={}, page_content='the party for farmers, backward castes and'),\n",
       " Document(metadata={}, page_content='and middle-class people. Since the 1990s, it has'),\n",
       " Document(metadata={}, page_content='it has followed an economically liberal policy'),\n",
       " Document(metadata={}, page_content='policy that has been seen as pro-business and'),\n",
       " Document(metadata={}, page_content='and pro-development.[19]'),\n",
       " Document(metadata={}, page_content='The TDP uses yellow as the background colour for'),\n",
       " Document(metadata={}, page_content='for its flag, with a hut, wheel and plough symbol'),\n",
       " Document(metadata={}, page_content=\"symbol in the foreground. The party's electoral\"),\n",
       " Document(metadata={}, page_content='electoral symbol is bicycle.')]"
      ]
     },
     "execution_count": 15,
     "metadata": {},
     "output_type": "execute_result"
    }
   ],
   "source": [
    "text"
   ]
  },
  {
   "cell_type": "markdown",
   "metadata": {},
   "source": [
    "#### character text splitter"
   ]
  },
  {
   "cell_type": "code",
   "execution_count": 16,
   "metadata": {},
   "outputs": [],
   "source": [
    "from langchain_text_splitters import CharacterTextSplitter"
   ]
  },
  {
   "cell_type": "code",
   "execution_count": 17,
   "metadata": {},
   "outputs": [
    {
     "name": "stderr",
     "output_type": "stream",
     "text": [
      "Created a chunk of size 352, which is longer than the specified 100\n"
     ]
    }
   ],
   "source": [
    "test_splitter = CharacterTextSplitter(separator=\"\\n\\n\", chunk_size=100, chunk_overlap=10)\n",
    "final_docs = test_splitter.split_documents(docs)"
   ]
  },
  {
   "cell_type": "code",
   "execution_count": 18,
   "metadata": {},
   "outputs": [
    {
     "data": {
      "text/plain": [
       "[Document(metadata={'source': 'TDP.txt'}, page_content='The Telugu Desam Party follows a pro-Telugu ideology. It was founded as an alternative to the Congress hegemony, by emphasizing Telugu regional pride and serving as the party for farmers, backward castes and middle-class people. Since the 1990s, it has followed an economically liberal policy that has been seen as pro-business and pro-development.[19]'),\n",
       " Document(metadata={'source': 'TDP.txt'}, page_content=\"The TDP uses yellow as the background colour for its flag, with a hut, wheel and plough symbol in the foreground. The party's electoral symbol is bicycle.\")]"
      ]
     },
     "execution_count": 18,
     "metadata": {},
     "output_type": "execute_result"
    }
   ],
   "source": [
    "final_docs"
   ]
  },
  {
   "cell_type": "code",
   "execution_count": 19,
   "metadata": {},
   "outputs": [
    {
     "name": "stderr",
     "output_type": "stream",
     "text": [
      "Created a chunk of size 352, which is longer than the specified 50\n"
     ]
    }
   ],
   "source": [
    "with open(\"TDP.txt\") as f:\n",
    "    txt = f.read()\n",
    "    \n",
    "text_splitter = CharacterTextSplitter(chunk_size = 50, chunk_overlap = 10)\n",
    "text = text_splitter.create_documents([txt])"
   ]
  },
  {
   "cell_type": "code",
   "execution_count": 20,
   "metadata": {},
   "outputs": [
    {
     "data": {
      "text/plain": [
       "[Document(metadata={}, page_content='The Telugu Desam Party follows a pro-Telugu ideology. It was founded as an alternative to the Congress hegemony, by emphasizing Telugu regional pride and serving as the party for farmers, backward castes and middle-class people. Since the 1990s, it has followed an economically liberal policy that has been seen as pro-business and pro-development.[19]'),\n",
       " Document(metadata={}, page_content=\"The TDP uses yellow as the background colour for its flag, with a hut, wheel and plough symbol in the foreground. The party's electoral symbol is bicycle.\")]"
      ]
     },
     "execution_count": 20,
     "metadata": {},
     "output_type": "execute_result"
    }
   ],
   "source": [
    "text"
   ]
  },
  {
   "cell_type": "markdown",
   "metadata": {},
   "source": [
    "#### HTML Text splitter"
   ]
  },
  {
   "cell_type": "code",
   "execution_count": 21,
   "metadata": {},
   "outputs": [],
   "source": [
    "from langchain_text_splitters import HTMLHeaderTextSplitter"
   ]
  },
  {
   "cell_type": "code",
   "execution_count": 22,
   "metadata": {},
   "outputs": [],
   "source": [
    "html_string = \"\"\"\n",
    "<!DOCTYPE html>\n",
    "<html>\n",
    "<body>\n",
    "    <div>\n",
    "        <h1>Foo</h1>\n",
    "        <p>Some intro text about Foo.</p>\n",
    "        <div>\n",
    "            <h2>Bar main section</h2>\n",
    "            <p>Some intro text about Bar.</p>\n",
    "            <h3>Bar subsection 1</h3>\n",
    "            <p>Some text about the first subtopic of Bar.</p>\n",
    "            <h3>Bar subsection 2</h3>\n",
    "            <p>Some text about the second subtopic of Bar.</p>\n",
    "        </div>\n",
    "        <div>\n",
    "            <h2>Baz</h2>\n",
    "            <p>Some text about Baz</p>\n",
    "        </div>\n",
    "        <br>\n",
    "        <p>Some concluding text about Foo</p>\n",
    "    </div>\n",
    "</body>\n",
    "</html>\n",
    "\"\"\"\n",
    "\n",
    "headers_to_split_on = [\n",
    "    (\"h1\", \"Header 1\"),\n",
    "    (\"h2\", \"Header 2\"),\n",
    "    (\"h3\", \"Header 3\"),\n",
    "]"
   ]
  },
  {
   "cell_type": "code",
   "execution_count": 24,
   "metadata": {},
   "outputs": [],
   "source": [
    "html_splitter = HTMLHeaderTextSplitter(headers_to_split_on=headers_to_split_on)\n",
    "html_header_splits = html_splitter.split_text(html_string)"
   ]
  },
  {
   "cell_type": "code",
   "execution_count": 25,
   "metadata": {},
   "outputs": [
    {
     "data": {
      "text/plain": [
       "[Document(metadata={}, page_content='Foo'),\n",
       " Document(metadata={'Header 1': 'Foo'}, page_content='Some intro text about Foo.  \\nBar main section Bar subsection 1 Bar subsection 2'),\n",
       " Document(metadata={'Header 1': 'Foo', 'Header 2': 'Bar main section'}, page_content='Some intro text about Bar.'),\n",
       " Document(metadata={'Header 1': 'Foo', 'Header 2': 'Bar main section', 'Header 3': 'Bar subsection 1'}, page_content='Some text about the first subtopic of Bar.'),\n",
       " Document(metadata={'Header 1': 'Foo', 'Header 2': 'Bar main section', 'Header 3': 'Bar subsection 2'}, page_content='Some text about the second subtopic of Bar.'),\n",
       " Document(metadata={'Header 1': 'Foo'}, page_content='Baz'),\n",
       " Document(metadata={'Header 1': 'Foo', 'Header 2': 'Baz'}, page_content='Some text about Baz'),\n",
       " Document(metadata={'Header 1': 'Foo'}, page_content='Some concluding text about Foo')]"
      ]
     },
     "execution_count": 25,
     "metadata": {},
     "output_type": "execute_result"
    }
   ],
   "source": [
    "html_header_splits"
   ]
  },
  {
   "cell_type": "code",
   "execution_count": null,
   "metadata": {},
   "outputs": [],
   "source": []
  }
 ],
 "metadata": {
  "kernelspec": {
   "display_name": "LLM",
   "language": "python",
   "name": "python3"
  },
  "language_info": {
   "codemirror_mode": {
    "name": "ipython",
    "version": 3
   },
   "file_extension": ".py",
   "mimetype": "text/x-python",
   "name": "python",
   "nbconvert_exporter": "python",
   "pygments_lexer": "ipython3",
   "version": "3.11.9"
  }
 },
 "nbformat": 4,
 "nbformat_minor": 2
}
