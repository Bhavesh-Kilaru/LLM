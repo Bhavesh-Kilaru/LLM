{
 "cells": [
  {
   "cell_type": "markdown",
   "metadata": {},
   "source": [
    "Faiss is a library for efficient similarity search and clustering of dense vectors. It contains algorithms that search in sets of vectors of any size, up to ones that possibly do not fit in RAM. It also contains supporting code for evaluation and parameter tuning. Faiss is written in C++ with complete wrappers for Python/numpy. Some of the most useful algorithms are implemented on the GPU. It is developed primarily at Meta's Fundamental AI Research group."
   ]
  },
  {
   "cell_type": "code",
   "execution_count": 2,
   "metadata": {},
   "outputs": [],
   "source": [
    "from langchain_community.document_loaders import TextLoader\n",
    "from langchain_community.vectorstores import FAISS\n",
    "from langchain_community.embeddings import OllamaEmbeddings\n",
    "from langchain_text_splitters import CharacterTextSplitter"
   ]
  },
  {
   "cell_type": "code",
   "execution_count": 3,
   "metadata": {},
   "outputs": [],
   "source": [
    "loader = TextLoader(\"TDP.txt\")\n",
    "doc = loader.load()"
   ]
  },
  {
   "cell_type": "code",
   "execution_count": 5,
   "metadata": {},
   "outputs": [
    {
     "name": "stderr",
     "output_type": "stream",
     "text": [
      "Created a chunk of size 1037, which is longer than the specified 1000\n"
     ]
    }
   ],
   "source": [
    "text_splitter = CharacterTextSplitter(chunk_size = 1000, chunk_overlap = 30)\n",
    "split_doc= text_splitter.split_documents(doc)\n"
   ]
  },
  {
   "cell_type": "code",
   "execution_count": 7,
   "metadata": {},
   "outputs": [],
   "source": [
    "embeddings = OllamaEmbeddings( model=\"gemma2:2b\")\n",
    "db = FAISS.from_documents(split_doc, embeddings)"
   ]
  },
  {
   "cell_type": "code",
   "execution_count": 8,
   "metadata": {},
   "outputs": [],
   "source": [
    "#querying data\n",
    "query = \"who founded Telugu Desam Party?\"\n",
    "docs=db.similarity_search(query)"
   ]
  },
  {
   "cell_type": "code",
   "execution_count": 10,
   "metadata": {},
   "outputs": [
    {
     "data": {
      "text/plain": [
       "'TDP party was founded thinking that we should stand by the people of the state who are struggling with many such problems and put a political party to stand by the people. The party was formed on 29 March 1982 and contested the 1983 elections. The people of Andhra Pradesh, who were fed up with the Congress government which had been ruling for 36 years, gave a great victory to the TDP party in the 1983 elections. On 9 January 1983, NTR was sworn in as the 7th chief minister of Andhra Pradesh.[22]\\n\\nOn 16 August 1984, when NTR went to America for the operation, Nadendla Bhaskara Rao, one of the MLAs of the TDP party, took the oath of office with the Governor along with his MLAs as the Chief Minister.[23] On 16 September 1984, NTR along with his MLAs went to Delhi and held a march and dharna against the then Prime Minister Indira Gandhi. Then NTR was once again sworn in as the chief minister.'"
      ]
     },
     "execution_count": 10,
     "metadata": {},
     "output_type": "execute_result"
    }
   ],
   "source": [
    "docs[0].page_content"
   ]
  },
  {
   "cell_type": "markdown",
   "metadata": {},
   "source": [
    "#### As a retriever\n",
    "we can also convert a vector store into retriever class. This allows us to easily use it in other lang chain methods, which largely work with retrievers."
   ]
  },
  {
   "cell_type": "code",
   "execution_count": 12,
   "metadata": {},
   "outputs": [],
   "source": [
    "retriever = db.as_retriever()\n",
    "docs = retriever.invoke(query)"
   ]
  },
  {
   "cell_type": "code",
   "execution_count": 13,
   "metadata": {},
   "outputs": [
    {
     "data": {
      "text/plain": [
       "[Document(metadata={'source': 'TDP.txt'}, page_content='TDP party was founded thinking that we should stand by the people of the state who are struggling with many such problems and put a political party to stand by the people. The party was formed on 29 March 1982 and contested the 1983 elections. The people of Andhra Pradesh, who were fed up with the Congress government which had been ruling for 36 years, gave a great victory to the TDP party in the 1983 elections. On 9 January 1983, NTR was sworn in as the 7th chief minister of Andhra Pradesh.[22]\\n\\nOn 16 August 1984, when NTR went to America for the operation, Nadendla Bhaskara Rao, one of the MLAs of the TDP party, took the oath of office with the Governor along with his MLAs as the Chief Minister.[23] On 16 September 1984, NTR along with his MLAs went to Delhi and held a march and dharna against the then Prime Minister Indira Gandhi. Then NTR was once again sworn in as the chief minister.'),\n",
       " Document(metadata={'source': 'TDP.txt'}, page_content='As a film actor, Nandamuri Taraka Rama Rao (NTR) is a well-known name not only to the Telugu people but across the country. On 18 November 1977, near Diviseema[21] in Krishna district of Andhra Pradesh, the sea became turbulent and the Pralaya cyclone that crossed the coast caused great destruction to the villages. Thousands of people lost their lives in Horugali and Rakasi waves. The rotting bodies were mass cremated. Officially 14,204 people and unofficially about 50,000 lost their lives in the devastation caused by this typhoon. About 20 thousand acres of crops were damaged. Apart from this, property damage is also estimated to be in crores. People still get excited when they remember that Diviseema was flooded. Film actor NTR, who was shocked by the situation at that time, took the support of the entire film industry by saying that he should stand by the people of Divisea. NTR came to streets and begged everyone to help the Diviseema people. The money donated by people was used to rehabilitate the people of Diviseema.'),\n",
       " Document(metadata={'source': 'TDP.txt'}, page_content=\"The Telugu Desam Party follows a pro-Telugu ideology. It was founded as an alternative to the Congress hegemony, by emphasizing Telugu regional pride and serving as the party for farmers, backward castes and middle-class people. Since the 1990s, it has followed an economically liberal policy that has been seen as pro-business and pro-development.[19]\\n\\nThe TDP uses yellow as the background colour for its flag, with a hut, wheel and plough symbol in the foreground. The party's electoral symbol is bicycle.\")]"
      ]
     },
     "execution_count": 13,
     "metadata": {},
     "output_type": "execute_result"
    }
   ],
   "source": [
    "docs"
   ]
  },
  {
   "cell_type": "markdown",
   "metadata": {},
   "source": [
    "#### similarity search with score\n",
    "There are some FAISS specific methods. One of them is similarity_search_with_score, which allows you to return not only the documents but also distance score of query to them. The returned distance score is L2 distance. Therefore, a lower score is better."
   ]
  },
  {
   "cell_type": "code",
   "execution_count": 14,
   "metadata": {},
   "outputs": [],
   "source": [
    "docs_and_score = db.similarity_search_with_score(query)"
   ]
  },
  {
   "cell_type": "code",
   "execution_count": 15,
   "metadata": {},
   "outputs": [
    {
     "data": {
      "text/plain": [
       "[(Document(metadata={'source': 'TDP.txt'}, page_content='TDP party was founded thinking that we should stand by the people of the state who are struggling with many such problems and put a political party to stand by the people. The party was formed on 29 March 1982 and contested the 1983 elections. The people of Andhra Pradesh, who were fed up with the Congress government which had been ruling for 36 years, gave a great victory to the TDP party in the 1983 elections. On 9 January 1983, NTR was sworn in as the 7th chief minister of Andhra Pradesh.[22]\\n\\nOn 16 August 1984, when NTR went to America for the operation, Nadendla Bhaskara Rao, one of the MLAs of the TDP party, took the oath of office with the Governor along with his MLAs as the Chief Minister.[23] On 16 September 1984, NTR along with his MLAs went to Delhi and held a march and dharna against the then Prime Minister Indira Gandhi. Then NTR was once again sworn in as the chief minister.'),\n",
       "  25146.453),\n",
       " (Document(metadata={'source': 'TDP.txt'}, page_content='As a film actor, Nandamuri Taraka Rama Rao (NTR) is a well-known name not only to the Telugu people but across the country. On 18 November 1977, near Diviseema[21] in Krishna district of Andhra Pradesh, the sea became turbulent and the Pralaya cyclone that crossed the coast caused great destruction to the villages. Thousands of people lost their lives in Horugali and Rakasi waves. The rotting bodies were mass cremated. Officially 14,204 people and unofficially about 50,000 lost their lives in the devastation caused by this typhoon. About 20 thousand acres of crops were damaged. Apart from this, property damage is also estimated to be in crores. People still get excited when they remember that Diviseema was flooded. Film actor NTR, who was shocked by the situation at that time, took the support of the entire film industry by saying that he should stand by the people of Divisea. NTR came to streets and begged everyone to help the Diviseema people. The money donated by people was used to rehabilitate the people of Diviseema.'),\n",
       "  25906.242),\n",
       " (Document(metadata={'source': 'TDP.txt'}, page_content=\"The Telugu Desam Party follows a pro-Telugu ideology. It was founded as an alternative to the Congress hegemony, by emphasizing Telugu regional pride and serving as the party for farmers, backward castes and middle-class people. Since the 1990s, it has followed an economically liberal policy that has been seen as pro-business and pro-development.[19]\\n\\nThe TDP uses yellow as the background colour for its flag, with a hut, wheel and plough symbol in the foreground. The party's electoral symbol is bicycle.\"),\n",
       "  26577.27)]"
      ]
     },
     "execution_count": 15,
     "metadata": {},
     "output_type": "execute_result"
    }
   ],
   "source": [
    "docs_and_score"
   ]
  },
  {
   "cell_type": "code",
   "execution_count": 16,
   "metadata": {},
   "outputs": [],
   "source": [
    "embedding_vector= embeddings.embed_query(query)"
   ]
  },
  {
   "cell_type": "code",
   "execution_count": 18,
   "metadata": {},
   "outputs": [
    {
     "data": {
      "text/plain": [
       "2304"
      ]
     },
     "execution_count": 18,
     "metadata": {},
     "output_type": "execute_result"
    }
   ],
   "source": [
    "len(embedding_vector)"
   ]
  },
  {
   "cell_type": "code",
   "execution_count": 19,
   "metadata": {},
   "outputs": [],
   "source": [
    "docs_vector_score=db.similarity_search_by_vector(embedding_vector)"
   ]
  },
  {
   "cell_type": "code",
   "execution_count": 20,
   "metadata": {},
   "outputs": [
    {
     "data": {
      "text/plain": [
       "[Document(metadata={'source': 'TDP.txt'}, page_content='TDP party was founded thinking that we should stand by the people of the state who are struggling with many such problems and put a political party to stand by the people. The party was formed on 29 March 1982 and contested the 1983 elections. The people of Andhra Pradesh, who were fed up with the Congress government which had been ruling for 36 years, gave a great victory to the TDP party in the 1983 elections. On 9 January 1983, NTR was sworn in as the 7th chief minister of Andhra Pradesh.[22]\\n\\nOn 16 August 1984, when NTR went to America for the operation, Nadendla Bhaskara Rao, one of the MLAs of the TDP party, took the oath of office with the Governor along with his MLAs as the Chief Minister.[23] On 16 September 1984, NTR along with his MLAs went to Delhi and held a march and dharna against the then Prime Minister Indira Gandhi. Then NTR was once again sworn in as the chief minister.'),\n",
       " Document(metadata={'source': 'TDP.txt'}, page_content='As a film actor, Nandamuri Taraka Rama Rao (NTR) is a well-known name not only to the Telugu people but across the country. On 18 November 1977, near Diviseema[21] in Krishna district of Andhra Pradesh, the sea became turbulent and the Pralaya cyclone that crossed the coast caused great destruction to the villages. Thousands of people lost their lives in Horugali and Rakasi waves. The rotting bodies were mass cremated. Officially 14,204 people and unofficially about 50,000 lost their lives in the devastation caused by this typhoon. About 20 thousand acres of crops were damaged. Apart from this, property damage is also estimated to be in crores. People still get excited when they remember that Diviseema was flooded. Film actor NTR, who was shocked by the situation at that time, took the support of the entire film industry by saying that he should stand by the people of Divisea. NTR came to streets and begged everyone to help the Diviseema people. The money donated by people was used to rehabilitate the people of Diviseema.'),\n",
       " Document(metadata={'source': 'TDP.txt'}, page_content=\"The Telugu Desam Party follows a pro-Telugu ideology. It was founded as an alternative to the Congress hegemony, by emphasizing Telugu regional pride and serving as the party for farmers, backward castes and middle-class people. Since the 1990s, it has followed an economically liberal policy that has been seen as pro-business and pro-development.[19]\\n\\nThe TDP uses yellow as the background colour for its flag, with a hut, wheel and plough symbol in the foreground. The party's electoral symbol is bicycle.\")]"
      ]
     },
     "execution_count": 20,
     "metadata": {},
     "output_type": "execute_result"
    }
   ],
   "source": [
    "docs_vector_score"
   ]
  },
  {
   "cell_type": "code",
   "execution_count": 21,
   "metadata": {},
   "outputs": [],
   "source": [
    "#### saving to local and loading\n",
    "db.save_local(\"Faiss_index\")"
   ]
  },
  {
   "cell_type": "code",
   "execution_count": 25,
   "metadata": {},
   "outputs": [],
   "source": [
    "#### loadong the saved file\n",
    "new_db=FAISS.load_local(\"Faiss_index\", embeddings=embeddings, allow_dangerous_deserialization=True)"
   ]
  },
  {
   "cell_type": "code",
   "execution_count": 26,
   "metadata": {},
   "outputs": [],
   "source": [
    "new_similarity_search = new_db.similarity_search_with_score(query)"
   ]
  },
  {
   "cell_type": "code",
   "execution_count": 27,
   "metadata": {},
   "outputs": [
    {
     "data": {
      "text/plain": [
       "[(Document(metadata={'source': 'TDP.txt'}, page_content='TDP party was founded thinking that we should stand by the people of the state who are struggling with many such problems and put a political party to stand by the people. The party was formed on 29 March 1982 and contested the 1983 elections. The people of Andhra Pradesh, who were fed up with the Congress government which had been ruling for 36 years, gave a great victory to the TDP party in the 1983 elections. On 9 January 1983, NTR was sworn in as the 7th chief minister of Andhra Pradesh.[22]\\n\\nOn 16 August 1984, when NTR went to America for the operation, Nadendla Bhaskara Rao, one of the MLAs of the TDP party, took the oath of office with the Governor along with his MLAs as the Chief Minister.[23] On 16 September 1984, NTR along with his MLAs went to Delhi and held a march and dharna against the then Prime Minister Indira Gandhi. Then NTR was once again sworn in as the chief minister.'),\n",
       "  25146.453),\n",
       " (Document(metadata={'source': 'TDP.txt'}, page_content='As a film actor, Nandamuri Taraka Rama Rao (NTR) is a well-known name not only to the Telugu people but across the country. On 18 November 1977, near Diviseema[21] in Krishna district of Andhra Pradesh, the sea became turbulent and the Pralaya cyclone that crossed the coast caused great destruction to the villages. Thousands of people lost their lives in Horugali and Rakasi waves. The rotting bodies were mass cremated. Officially 14,204 people and unofficially about 50,000 lost their lives in the devastation caused by this typhoon. About 20 thousand acres of crops were damaged. Apart from this, property damage is also estimated to be in crores. People still get excited when they remember that Diviseema was flooded. Film actor NTR, who was shocked by the situation at that time, took the support of the entire film industry by saying that he should stand by the people of Divisea. NTR came to streets and begged everyone to help the Diviseema people. The money donated by people was used to rehabilitate the people of Diviseema.'),\n",
       "  25906.242),\n",
       " (Document(metadata={'source': 'TDP.txt'}, page_content=\"The Telugu Desam Party follows a pro-Telugu ideology. It was founded as an alternative to the Congress hegemony, by emphasizing Telugu regional pride and serving as the party for farmers, backward castes and middle-class people. Since the 1990s, it has followed an economically liberal policy that has been seen as pro-business and pro-development.[19]\\n\\nThe TDP uses yellow as the background colour for its flag, with a hut, wheel and plough symbol in the foreground. The party's electoral symbol is bicycle.\"),\n",
       "  26577.27)]"
      ]
     },
     "execution_count": 27,
     "metadata": {},
     "output_type": "execute_result"
    }
   ],
   "source": [
    "new_similarity_search"
   ]
  },
  {
   "cell_type": "code",
   "execution_count": null,
   "metadata": {},
   "outputs": [],
   "source": []
  }
 ],
 "metadata": {
  "kernelspec": {
   "display_name": "LLM",
   "language": "python",
   "name": "python3"
  },
  "language_info": {
   "codemirror_mode": {
    "name": "ipython",
    "version": 3
   },
   "file_extension": ".py",
   "mimetype": "text/x-python",
   "name": "python",
   "nbconvert_exporter": "python",
   "pygments_lexer": "ipython3",
   "version": "3.11.9"
  }
 },
 "nbformat": 4,
 "nbformat_minor": 2
}
